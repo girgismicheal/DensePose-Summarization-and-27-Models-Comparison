{
 "cells": [
  {
   "cell_type": "markdown",
   "metadata": {
    "collapsed": false
   },
   "source": [
    "# DensePose inferance"
   ]
  },
  {
   "cell_type": "code",
   "execution_count": 3,
   "metadata": {
    "collapsed": false
   },
   "outputs": [
    {
     "data": {
      "text/plain": [
       "0"
      ]
     },
     "execution_count": 3,
     "metadata": {},
     "output_type": "execute_result"
    }
   ],
   "source": [
    "import os\n",
    "# os.makedir()\n",
    "for \n",
    "os.system('cd Densepose_test && mkdir model_1')"
   ]
  },
  {
   "cell_type": "markdown",
   "source": [
    "## Model's names"
   ],
   "metadata": {
    "collapsed": false
   }
  },
  {
   "cell_type": "code",
   "execution_count": 5,
   "metadata": {},
   "outputs": [],
   "source": [
    "models = [\n",
    "\"R_50_FPN_s1x_legacy\",\n",
    "\"R_101_FPN_s1x_legacy\",\n",
    "\"R_50_FPN_s1x\",\n",
    "\"R_101_FPN_s1x\",\n",
    "\"R_50_FPN_DL_s1x\",\n",
    "\"R_101_FPN_DL_s1x\",\n",
    "\"R_50_FPN_WC1_s1x\",\n",
    "\"R_50_FPN_WC2_s1x\",\n",
    "\"R_50_FPN_DL_WC1_s1x\",\n",
    "\"R_50_FPN_DL_WC2_s1x\",\n",
    "\"R_101_FPN_WC1_s1x\",\n",
    "\"R_101_FPN_WC2_s1x\",\n",
    "\"R_101_FPN_DL_WC1_s1x\",\n",
    "\"R_101_FPN_DL_WC2_s1x\",\n",
    "\"R_50_FPN_WC1M_s1x\",\n",
    "\"R_50_FPN_WC2M_s1x\",\n",
    "\"R_50_FPN_DL_WC1M_s1x\",\n",
    "\"R_50_FPN_DL_WC2M_s1x\",\n",
    "\"R_101_FPN_WC1M_s1x\",\n",
    "\"R_101_FPN_WC2M_s1x\",\n",
    "\"R_101_FPN_DL_WC1M_s1x\",\n",
    "\"R_101_FPN_DL_WC2M_s1x\",\n",
    "\"R_50_FPN_DL_WC1M_3x_Atop10P_CA\",\n",
    "\"R_50_FPN_DL_WC1M_3x_Atop10P_CA_B_uniform\",\n",
    "\"R_50_FPN_DL_WC1M_3x_Atop10P_CA_B_uv\",\n",
    "\"R_50_FPN_DL_WC1M_3x_Atop10P_CA_B_finesegm\",\n",
    "\"R_50_FPN_DL_WC1M_3x_Atop10P_CA_B_coarsesegm\",\n",
    "]"
   ]
  },
  {
   "cell_type": "markdown",
   "source": [
    "## Model's weights"
   ],
   "metadata": {
    "collapsed": false
   }
  },
  {
   "cell_type": "code",
   "execution_count": null,
   "outputs": [],
   "source": [
    "model_ps = [\n",
    "\"https://dl.fbaipublicfiles.com/densepose/densepose_rcnn_R_50_FPN_s1x_legacy/164832157/model_final_d366fa.pkl\",\n",
    "\"https://dl.fbaipublicfiles.com/densepose/densepose_rcnn_R_101_FPN_s1x_legacy/164832182/model_final_10af0e.pkl\",\n",
    "\"https://dl.fbaipublicfiles.com/densepose/densepose_rcnn_R_50_FPN_s1x/165712039/model_final_162be9.pkl\",\n",
    "\"https://dl.fbaipublicfiles.com/densepose/densepose_rcnn_R_101_FPN_s1x/165712084/model_final_c6ab63.pkl\",\n",
    "\"https://dl.fbaipublicfiles.com/densepose/densepose_rcnn_R_50_FPN_DL_s1x/165712097/model_final_0ed407.pkl\",\n",
    "\"https://dl.fbaipublicfiles.com/densepose/densepose_rcnn_R_101_FPN_DL_s1x/165712116/model_final_844d15.pkl\",\n",
    "\"https://dl.fbaipublicfiles.com/densepose/densepose_rcnn_R_50_FPN_WC1_s1x/173862049/model_final_289019.pkl\",\n",
    "\"https://dl.fbaipublicfiles.com/densepose/densepose_rcnn_R_50_FPN_WC2_s1x/173861455/model_final_3abe14.pkl\",\n",
    "\"https://dl.fbaipublicfiles.com/densepose/densepose_rcnn_R_50_FPN_DL_WC1_s1x/173067973/model_final_b1e525.pkl\",\n",
    "\"https://dl.fbaipublicfiles.com/densepose/densepose_rcnn_R_50_FPN_DL_WC2_s1x/173859335/model_final_60fed4.pkl\",\n",
    "\"https://dl.fbaipublicfiles.com/densepose/densepose_rcnn_R_101_FPN_WC1_s1x/171402969/model_final_9e47f0.pkl\",\n",
    "\"https://dl.fbaipublicfiles.com/densepose/densepose_rcnn_R_101_FPN_WC2_s1x/173860702/model_final_5ea023.pkl\",\n",
    "\"https://dl.fbaipublicfiles.com/densepose/densepose_rcnn_R_101_FPN_DL_WC1_s1x/173858525/model_final_f359f3.pkl\",\n",
    "\"https://dl.fbaipublicfiles.com/densepose/densepose_rcnn_R_101_FPN_DL_WC2_s1x/173294801/model_final_6e1ed1.pkl\",\n",
    "\"https://dl.fbaipublicfiles.com/densepose/densepose_rcnn_R_50_FPN_WC1M_s1x/217144516/model_final_48a9d9.pkl\",\n",
    "\"https://dl.fbaipublicfiles.com/densepose/densepose_rcnn_R_50_FPN_WC2M_s1x/216245640/model_final_d79ada.pkl\",\n",
    "\"https://dl.fbaipublicfiles.com/densepose/densepose_rcnn_R_50_FPN_DL_WC1M_s1x/216245703/model_final_61971e.pkl\",\n",
    "\"https://dl.fbaipublicfiles.com/densepose/densepose_rcnn_R_50_FPN_DL_WC2M_s1x/216245758/model_final_7bfb43.pkl\",\n",
    "\"https://dl.fbaipublicfiles.com/densepose/densepose_rcnn_R_101_FPN_WC1M_s1x/216453687/model_final_0a7287.pkl\",\n",
    "\"https://dl.fbaipublicfiles.com/densepose/densepose_rcnn_R_101_FPN_WC2M_s1x/216245682/model_final_e354d9.pkl\",\n",
    "\"https://dl.fbaipublicfiles.com/densepose/densepose_rcnn_R_101_FPN_DL_WC1M_s1x/216245771/model_final_0ebeb3.pkl\",\n",
    "\"https://dl.fbaipublicfiles.com/densepose/densepose_rcnn_R_101_FPN_DL_WC2M_s1x/216245790/model_final_de6e7a.pkl\",\n",
    "\"https://dl.fbaipublicfiles.com/densepose/evolution/densepose_R_50_FPN_DL_WC1M_3x_Atop10P_CA/217578784/model_final_9fe1cc.pkl\",\n",
    "\"https://dl.fbaipublicfiles.com/densepose/evolution/densepose_R_50_FPN_DL_WC1M_3x_Atop10P_CA_B_uniform/256453729/model_final_241ff5.pkl\",\n",
    "\"https://dl.fbaipublicfiles.com/densepose/evolution/densepose_R_50_FPN_DL_WC1M_3x_Atop10P_CA_B_uv/256452095/model_final_d689e2.pkl\",\n",
    "\"https://dl.fbaipublicfiles.com/densepose/evolution/densepose_R_50_FPN_DL_WC1M_3x_Atop10P_CA_B_finesegm/256452819/model_final_cb4ac6.pkl\",\n",
    "\"https://dl.fbaipublicfiles.com/densepose/evolution/densepose_R_50_FPN_DL_WC1M_3x_Atop10P_CA_B_coarsesegm/256455697/model_final_a6a4bf.pkl\"\n",
    "]\n",
    "\n",
    "model_ws = [\n",
    "\"configs/densepose_rcnn_R_50_FPN_s1x_legacy.yaml\",\n",
    "\"configs/densepose_rcnn_R_101_FPN_s1x_legacy.yaml\",\n",
    "\"configs/densepose_rcnn_R_50_FPN_s1x.yaml\",\n",
    "\"configs/densepose_rcnn_R_101_FPN_s1x.yaml\",\n",
    "\"configs/densepose_rcnn_R_50_FPN_DL_s1x.yaml\",\n",
    "\"configs/densepose_rcnn_R_101_FPN_DL_s1x.yaml\",\n",
    "\"configs/densepose_rcnn_R_50_FPN_WC1_s1x.yaml\",\n",
    "\"onfigs/densepose_rcnn_R_50_FPN_WC2_s1x.yaml\",\n",
    "\"configs/densepose_rcnn_R_50_FPN_DL_WC1_s1x.yaml\",\n",
    "\"configs/densepose_rcnn_R_50_FPN_DL_WC2_s1x.yaml\",\n",
    "\"configs/densepose_rcnn_R_101_FPN_WC1_s1x.yaml\",\n",
    "\"configs/densepose_rcnn_R_101_FPN_WC2_s1x.yaml\",\n",
    "\"configs/densepose_rcnn_R_101_FPN_DL_WC1_s1x.yaml\",\n",
    "\"configs/densepose_rcnn_R_101_FPN_DL_WC2_s1x.yaml\",\n",
    "\"configs/densepose_rcnn_R_50_FPN_WC1M_s1x.yaml\",\n",
    "\"configs/densepose_rcnn_R_50_FPN_WC2M_s1x.yaml\",\n",
    "\"configs/densepose_rcnn_R_50_FPN_DL_WC1M_s1x.yaml\",\n",
    "\"configs/densepose_rcnn_R_50_FPN_DL_WC2M_s1x.yaml\",\n",
    "\"configs/densepose_rcnn_R_101_FPN_WC1M_s1x.yaml\",\n",
    "\"configs/densepose_rcnn_R_101_FPN_WC2M_s1x.yaml\",\n",
    "\"configs/densepose_rcnn_R_101_FPN_DL_WC1M_s1x.yaml\",\n",
    "\"configs/densepose_rcnn_R_101_FPN_DL_WC2M_s1x.yaml\",\n",
    "\"configs/evolution/densepose_R_50_FPN_DL_WC1M_3x_Atop10P_CA.yaml\",\n",
    "\"configs/evolution/densepose_R_50_FPN_DL_WC1M_3x_Atop10P_CA_B_uniform.yaml\",\n",
    "\"configs/evolution/densepose_R_50_FPN_DL_WC1M_3x_Atop10P_CA_B_uv.yaml\",\n",
    "\"configs/evolution/densepose_R_50_FPN_DL_WC1M_3x_Atop10P_CA_B_finesegm.yaml\",\n",
    "\"configs/evolution/densepose_R_50_FPN_DL_WC1M_3x_Atop10P_CA_B_coarsesegm.yaml\"\n",
    "]"
   ],
   "metadata": {
    "collapsed": false
   }
  },
  {
   "cell_type": "code",
   "execution_count": 6,
   "metadata": {},
   "outputs": [
    {
     "data": {
      "text/plain": [
       "(27, 27, 27)"
      ]
     },
     "execution_count": 6,
     "metadata": {},
     "output_type": "execute_result"
    }
   ],
   "source": [
    "len(models), len(model_ws), len(model_ps)"
   ]
  },
  {
   "cell_type": "code",
   "execution_count": 8,
   "metadata": {},
   "outputs": [],
   "source": [
    "for model in models:\n",
    "    os.system(f'cd Densepose_Models_Comparisons && mkdir {model}')"
   ]
  },
  {
   "cell_type": "code",
   "execution_count": 7,
   "metadata": {},
   "outputs": [
    {
     "name": "stdout",
     "output_type": "stream",
     "text": [
      "('R_50_FPN_s1x_legacy', 'https://dl.fbaipublicfiles.com/densepose/densepose_rcnn_R_50_FPN_s1x_legacy/164832157/model_final_d366fa.pkl', 'configs/densepose_rcnn_R_50_FPN_s1x_legacy.yaml')\n",
      "('R_101_FPN_s1x_legacy', 'https://dl.fbaipublicfiles.com/densepose/densepose_rcnn_R_101_FPN_s1x_legacy/164832182/model_final_10af0e.pkl', 'configs/densepose_rcnn_R_101_FPN_s1x_legacy.yaml')\n",
      "('R_50_FPN_s1x', 'https://dl.fbaipublicfiles.com/densepose/densepose_rcnn_R_50_FPN_s1x/165712039/model_final_162be9.pkl', 'configs/densepose_rcnn_R_50_FPN_s1x.yaml')\n",
      "('R_101_FPN_s1x', 'https://dl.fbaipublicfiles.com/densepose/densepose_rcnn_R_101_FPN_s1x/165712084/model_final_c6ab63.pkl', 'configs/densepose_rcnn_R_101_FPN_s1x.yaml')\n",
      "('R_50_FPN_DL_s1x', 'https://dl.fbaipublicfiles.com/densepose/densepose_rcnn_R_50_FPN_DL_s1x/165712097/model_final_0ed407.pkl', 'configs/densepose_rcnn_R_50_FPN_DL_s1x.yaml')\n",
      "('R_101_FPN_DL_s1x', 'https://dl.fbaipublicfiles.com/densepose/densepose_rcnn_R_101_FPN_DL_s1x/165712116/model_final_844d15.pkl', 'configs/densepose_rcnn_R_101_FPN_DL_s1x.yaml')\n",
      "('R_50_FPN_WC1_s1x', 'https://dl.fbaipublicfiles.com/densepose/densepose_rcnn_R_50_FPN_WC1_s1x/173862049/model_final_289019.pkl', 'configs/densepose_rcnn_R_50_FPN_WC1_s1x.yaml')\n",
      "('R_50_FPN_WC2_s1x', 'https://dl.fbaipublicfiles.com/densepose/densepose_rcnn_R_50_FPN_WC2_s1x/173861455/model_final_3abe14.pkl', 'onfigs/densepose_rcnn_R_50_FPN_WC2_s1x.yaml')\n",
      "('R_50_FPN_DL_WC1_s1x', 'https://dl.fbaipublicfiles.com/densepose/densepose_rcnn_R_50_FPN_DL_WC1_s1x/173067973/model_final_b1e525.pkl', 'configs/densepose_rcnn_R_50_FPN_DL_WC1_s1x.yaml')\n",
      "('R_50_FPN_DL_WC2_s1x', 'https://dl.fbaipublicfiles.com/densepose/densepose_rcnn_R_50_FPN_DL_WC2_s1x/173859335/model_final_60fed4.pkl', 'configs/densepose_rcnn_R_50_FPN_DL_WC2_s1x.yaml')\n",
      "('R_101_FPN_WC1_s1x', 'https://dl.fbaipublicfiles.com/densepose/densepose_rcnn_R_101_FPN_WC1_s1x/171402969/model_final_9e47f0.pkl', 'configs/densepose_rcnn_R_101_FPN_WC1_s1x.yaml')\n",
      "('R_101_FPN_WC2_s1x', 'https://dl.fbaipublicfiles.com/densepose/densepose_rcnn_R_101_FPN_WC2_s1x/173860702/model_final_5ea023.pkl', 'configs/densepose_rcnn_R_101_FPN_WC2_s1x.yaml')\n",
      "('R_101_FPN_DL_WC1_s1x', 'https://dl.fbaipublicfiles.com/densepose/densepose_rcnn_R_101_FPN_DL_WC1_s1x/173858525/model_final_f359f3.pkl', 'configs/densepose_rcnn_R_101_FPN_DL_WC1_s1x.yaml')\n",
      "('R_101_FPN_DL_WC2_s1x', 'https://dl.fbaipublicfiles.com/densepose/densepose_rcnn_R_101_FPN_DL_WC2_s1x/173294801/model_final_6e1ed1.pkl', 'configs/densepose_rcnn_R_101_FPN_DL_WC2_s1x.yaml')\n",
      "('R_50_FPN_WC1M_s1x', 'https://dl.fbaipublicfiles.com/densepose/densepose_rcnn_R_50_FPN_WC1M_s1x/217144516/model_final_48a9d9.pkl', 'configs/densepose_rcnn_R_50_FPN_WC1M_s1x.yaml')\n",
      "('R_50_FPN_WC2M_s1x', 'https://dl.fbaipublicfiles.com/densepose/densepose_rcnn_R_50_FPN_WC2M_s1x/216245640/model_final_d79ada.pkl', 'configs/densepose_rcnn_R_50_FPN_WC2M_s1x.yaml')\n",
      "('R_50_FPN_DL_WC1M_s1x', 'https://dl.fbaipublicfiles.com/densepose/densepose_rcnn_R_50_FPN_DL_WC1M_s1x/216245703/model_final_61971e.pkl', 'configs/densepose_rcnn_R_50_FPN_DL_WC1M_s1x.yaml')\n",
      "('R_50_FPN_DL_WC2M_s1x', 'https://dl.fbaipublicfiles.com/densepose/densepose_rcnn_R_50_FPN_DL_WC2M_s1x/216245758/model_final_7bfb43.pkl', 'configs/densepose_rcnn_R_50_FPN_DL_WC2M_s1x.yaml')\n",
      "('R_101_FPN_WC1M_s1x', 'https://dl.fbaipublicfiles.com/densepose/densepose_rcnn_R_101_FPN_WC1M_s1x/216453687/model_final_0a7287.pkl', 'configs/densepose_rcnn_R_101_FPN_WC1M_s1x.yaml')\n",
      "('R_101_FPN_WC2M_s1x', 'https://dl.fbaipublicfiles.com/densepose/densepose_rcnn_R_101_FPN_WC2M_s1x/216245682/model_final_e354d9.pkl', 'configs/densepose_rcnn_R_101_FPN_WC2M_s1x.yaml')\n",
      "('R_101_FPN_DL_WC1M_s1x', 'https://dl.fbaipublicfiles.com/densepose/densepose_rcnn_R_101_FPN_DL_WC1M_s1x/216245771/model_final_0ebeb3.pkl', 'configs/densepose_rcnn_R_101_FPN_DL_WC1M_s1x.yaml')\n",
      "('R_101_FPN_DL_WC2M_s1x', 'https://dl.fbaipublicfiles.com/densepose/densepose_rcnn_R_101_FPN_DL_WC2M_s1x/216245790/model_final_de6e7a.pkl', 'configs/densepose_rcnn_R_101_FPN_DL_WC2M_s1x.yaml')\n",
      "('R_50_FPN_DL_WC1M_3x_Atop10P_CA', 'https://dl.fbaipublicfiles.com/densepose/evolution/densepose_R_50_FPN_DL_WC1M_3x_Atop10P_CA/217578784/model_final_9fe1cc.pkl', 'configs/evolution/densepose_R_50_FPN_DL_WC1M_3x_Atop10P_CA.yaml')\n",
      "('R_50_FPN_DL_WC1M_3x_Atop10P_CA_B_uniform', 'https://dl.fbaipublicfiles.com/densepose/evolution/densepose_R_50_FPN_DL_WC1M_3x_Atop10P_CA_B_uniform/256453729/model_final_241ff5.pkl', 'configs/evolution/densepose_R_50_FPN_DL_WC1M_3x_Atop10P_CA_B_uniform.yaml')\n",
      "('R_50_FPN_DL_WC1M_3x_Atop10P_CA_B_uv', 'https://dl.fbaipublicfiles.com/densepose/evolution/densepose_R_50_FPN_DL_WC1M_3x_Atop10P_CA_B_uv/256452095/model_final_d689e2.pkl', 'configs/evolution/densepose_R_50_FPN_DL_WC1M_3x_Atop10P_CA_B_uv.yaml')\n",
      "('R_50_FPN_DL_WC1M_3x_Atop10P_CA_B_finesegm', 'https://dl.fbaipublicfiles.com/densepose/evolution/densepose_R_50_FPN_DL_WC1M_3x_Atop10P_CA_B_finesegm/256452819/model_final_cb4ac6.pkl', 'configs/evolution/densepose_R_50_FPN_DL_WC1M_3x_Atop10P_CA_B_finesegm.yaml')\n",
      "('R_50_FPN_DL_WC1M_3x_Atop10P_CA_B_coarsesegm', 'https://dl.fbaipublicfiles.com/densepose/evolution/densepose_R_50_FPN_DL_WC1M_3x_Atop10P_CA_B_coarsesegm/256455697/model_final_a6a4bf.pkl', 'configs/evolution/densepose_R_50_FPN_DL_WC1M_3x_Atop10P_CA_B_coarsesegm.yaml')\n"
     ]
    }
   ],
   "source": [
    "for (model, model_w, model_p) in zip(models, model_ws, model_ps):\n",
    "    print((model, model_w, model_p))\n",
    "    print(f'python apply_net.py show --output \"D:/Graduation_project_inference/Graduation_project_inference/Densepose_Models_Comparisons/{model}/im.jpg\"  {model_w} {model_p} \"D:/Graduation_project_inference/Graduation_project_inference/Densepose_test/image/*.jpg\" dp_segm -v')"
   ]
  },
  {
   "cell_type": "code",
   "execution_count": 3,
   "metadata": {},
   "outputs": [
    {
     "data": {
      "text/plain": [
       "1"
      ]
     },
     "execution_count": 3,
     "metadata": {},
     "output_type": "execute_result"
    }
   ],
   "source": [
    "os.system('python apply_net.py show --output \"D:/Graduation_project_inference/Graduation_project_inference/Densepose_test/R_50_FPN_DL_s1x/im.jpg\"  configs/evolution/densepose_R_50_FPN_DL_WC1M_3x_Atop10P_CA_B_coarsesegm.yaml https://dl.fbaipublicfiles.com/densepose/evolution/densepose_R_50_FPN_DL_WC1M_3x_Atop10P_CA_B_coarsesegm/256455697/model_final_a6a4bf.pkl \"D:/Graduation_project_inference/Graduation_project_inference/Densepose_test/image/*.jpg\" dp_segm -v')"
   ]
  },
  {
   "cell_type": "markdown",
   "metadata": {
    "collapsed": false
   },
   "source": []
  }
 ],
 "metadata": {
  "kernelspec": {
   "display_name": "Python 3",
   "language": "python",
   "name": "python3"
  },
  "language_info": {
   "codemirror_mode": {
    "name": "ipython",
    "version": 3
   },
   "file_extension": ".py",
   "mimetype": "text/x-python",
   "name": "python",
   "nbconvert_exporter": "python",
   "pygments_lexer": "ipython3",
   "version": "3.10.9"
  },
  "vscode": {
   "interpreter": {
    "hash": "7aeda7374fc6aabe7eba22644b73d6c400db86022f5ae4921e525cfc70a7035f"
   }
  }
 },
 "nbformat": 4,
 "nbformat_minor": 0
}
